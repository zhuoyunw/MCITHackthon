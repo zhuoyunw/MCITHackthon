{
 "cells": [
  {
   "cell_type": "code",
   "execution_count": 1,
   "metadata": {},
   "outputs": [],
   "source": [
    "from os import listdir\n",
    "from os.path import isfile, join\n",
    "mypath = './UPenn_Events/'\n",
    "onlyfiles = [f for f in listdir(mypath) if isfile(join(mypath, f))]"
   ]
  },
  {
   "cell_type": "code",
   "execution_count": 2,
   "metadata": {},
   "outputs": [],
   "source": [
    "class MyEvent():\n",
    "    startdate = ''\n",
    "    enddate = ''\n",
    "    description = ''\n",
    "    def __init__(self, start, end, des):\n",
    "        self.startdate = start\n",
    "        self.enddate = end\n",
    "        self.description = des\n",
    "    def content(self):\n",
    "        return self.startdate + ' ' + self.enddate + ' ' + self.description"
   ]
  },
  {
   "cell_type": "code",
   "execution_count": 3,
   "metadata": {},
   "outputs": [
    {
     "name": "stdout",
     "output_type": "stream",
     "text": [
      "2020 Fall\n",
      "2021 Fall\n",
      "2021 Spring\n",
      "2021 Summer\n",
      "2022 Fall\n",
      "2022 Spring\n",
      "2022 Summer\n",
      "2023 Spring\n",
      "2023 Summer\n"
     ]
    }
   ],
   "source": [
    "eventlist = []\n",
    "for i in onlyfiles:\n",
    "    f = open(mypath + i, \"r\", encoding=\"utf8\")\n",
    "    print(i.split('- ')[1].split(' Term')[0])\n",
    "    temp = f.readlines()\n",
    "    for j in range(len(temp)):\n",
    "        if temp[j][0:13] == 'DTSTART;VALUE':\n",
    "            startdate = temp[j][19:-1]\n",
    "            enddate = temp[j + 1][17:-1]\n",
    "            description = temp[j - 2][12:-1]\n",
    "            eventlist.append(MyEvent(startdate, enddate, description))\n",
    "    f.close()"
   ]
  },
  {
   "cell_type": "code",
   "execution_count": 4,
   "metadata": {},
   "outputs": [],
   "source": [
    "contentlist = [i.content() for i in eventlist]\n",
    "contentlist = sorted(contentlist)"
   ]
  },
  {
   "cell_type": "code",
   "execution_count": 5,
   "metadata": {},
   "outputs": [
    {
     "data": {
      "text/plain": [
       "['20190501 20190501 Session I classes begin',\n",
       " '20200824 20200831 New Student Orientation',\n",
       " '20200831 20200831 Freshman Convocation Monday',\n",
       " '20200901 20200901 First Day of Classes Tuesday',\n",
       " '20200907 20200907 Labor Day (no classes) Monday',\n",
       " '20200915 20200915 Course Selection Period ends',\n",
       " '20201012 20201012 Drop Period ends',\n",
       " '20201016 20201018 Family Weekend Friday-Sunday',\n",
       " '20201030 20201030 Grade Type Change Deadline',\n",
       " '20201109 20201109 Last Day to Withdraw from a Course',\n",
       " '20201114 20201114 Homecoming Saturday',\n",
       " '20201124 20201125 Thurs-Fri Class Schedule on Tue-Wed',\n",
       " '20201126 20201130 Thanksgiving Break Thursday-Sunday',\n",
       " '20201130 20201130 Classes Resume',\n",
       " '20201130 20201208 Advance Registration for Spring term',\n",
       " '20201210 20201210 Last day of Classes',\n",
       " '20201210 20201210 Monday Class Schedule on a Thursday',\n",
       " '20201211 20201215 Reading Days Friday-Monday',\n",
       " '20201215 20201223 Final Examinations (online)',\n",
       " '20201222 20201222 Fall Term ends Thursday',\n",
       " '20210118 20210118 Martin Luther King\\\\, Jr. Day Observed (no classes) Monday',\n",
       " '20210120 20210120 First Day of Classes (Wednesday class schedule)',\n",
       " '20210202 20210202 Course Selection Period ends',\n",
       " '20210212 20210212 Engagement Day (no classes)',\n",
       " '20210301 20210301 Drop Period ends',\n",
       " '20210310 20210312 Spring Term Break',\n",
       " '20210319 20210319 Grade Type Change Deadline',\n",
       " '20210322 20210405 Advance Registration for Fall Term and Summer Sessions',\n",
       " '20210329 20210329 Last Day to Withdraw from a Course',\n",
       " '20210330 20210330 Engagement Day (no classes)',\n",
       " '20210412 20210412 Engagement Day (no classes)',\n",
       " '20210429 20210429 Last day of classes',\n",
       " '20210430 20210504 Reading Days',\n",
       " '20210504 20210512 Final Examinations',\n",
       " '20210511 20210511 Spring Term ends Tuesday',\n",
       " '20210515 20210515 Alumni Day Saturday',\n",
       " '20210516 20210516 Baccalaureate Sunday',\n",
       " '20210517 20210517 Commencement Monday',\n",
       " '20210524 20210524 11-Week Session Classes begin',\n",
       " '20210524 20210524 Session I Classes begin',\n",
       " '20210531 20210531 Memorial Day Observed (no classes) Monday',\n",
       " '20210630 20210630 Session I Classes end Wednesday',\n",
       " '20210701 20210701 Session II Classes begin',\n",
       " '20210705 20210705 Independence Day Observed (no classes)',\n",
       " '20210806 20210806 Session II & 11-Week Session Classes end Friday',\n",
       " '20210825 20210825 Move-in for First Year Students',\n",
       " '20210825 20210831 New Student Orientation',\n",
       " '20210830 20210830 Opening Exercises and Freshman Convocation',\n",
       " '20210831 20210831 First day of classes',\n",
       " '20210906 20210906 Labor Day (no classes)',\n",
       " '20211014 20211018 Fall Term Break',\n",
       " '20211018 20211018 Classes resume',\n",
       " '20211029 20211101 Family Weekend',\n",
       " '20211106 20211106 Homecoming',\n",
       " '20211123 20211125 Thur-Fri class schedule on Tue-Wed',\n",
       " '20211125 20211129 Thanksgiving Break',\n",
       " '20211129 20211129 Classes resume',\n",
       " '20211210 20211210 Last day of classes',\n",
       " '20211211 20211215 Reading days',\n",
       " '20211215 20211223 Final Examinations',\n",
       " '20211222 20211222 Fall Term ends',\n",
       " '20220112 20220112 First day of classes',\n",
       " '20220117 20220117 MLK\\\\, Jr. Day observed (no classes)',\n",
       " '20220305 20220314 Spring Term Break',\n",
       " '20220314 20220314 Classes resume',\n",
       " '20220427 20220427 Last day of classes',\n",
       " '20220428 20220502 Reading Days',\n",
       " '20220502 20220511 Final Examinations',\n",
       " '20220510 20220510 Spring term ends',\n",
       " '20220514 20220514 Alumni Day',\n",
       " '20220515 20220515 Baccalaureate',\n",
       " '20220523 20220523 11-Week Session classes begin',\n",
       " '20220523 20220523 Session I classes begin',\n",
       " '20220530 20220530 Memorial Day observed (no classes)',\n",
       " '20220629 20220629 Session I classes end',\n",
       " '20220630 20220630 Session II classes begin',\n",
       " '20220704 20220704 Independence Day observed (no classes)',\n",
       " '20220805 20220805 Session II & 11-Week Session classes end',\n",
       " '20220824 20220824 Move-in for First Year Students',\n",
       " '20220824 20220830 New Student Orientation',\n",
       " '20220829 20220829 Opening Exercises and Freshman Convocation',\n",
       " '20220830 20220830 First day of classes',\n",
       " '20220905 20220905 Labor Day (no classes)',\n",
       " '20221006 20221010 Fall Term Break',\n",
       " '20221010 20221010 Classes Resume',\n",
       " '20221022 20221022 Homecoming (Yale)',\n",
       " '20221111 20221114 Family Weekend (Harvard)',\n",
       " '20221122 20221124 Thur-Fri class schedule on Tue-Wed',\n",
       " '20221124 20221128 Thanksgiving Break',\n",
       " '20221128 20221128 Classes Resume',\n",
       " '20221212 20221212 Last day of classes',\n",
       " '20221213 20221215 Reading Days',\n",
       " '20221215 20221223 Final Examinations',\n",
       " '20221222 20221222 Fall Term ends',\n",
       " '20230111 20230111 First day of classes (Monday class schedule)',\n",
       " '20230116 20230116 MLK\\\\, Jr. Day observed (no classes)',\n",
       " '20230304 20230313 Spring Term Break',\n",
       " '20230313 20230313 Classes Resume',\n",
       " '20230426 20230426 Last Day of Classes',\n",
       " '20230427 20230501 Reading Days',\n",
       " '20230501 20230510 Final Examinations',\n",
       " '20230509 20230509 Spring Term ends',\n",
       " '20230513 20230513 Alumni Day',\n",
       " '20230514 20230514 Baccalaureate',\n",
       " '20230515 20230515 Commencement',\n",
       " '20230522 20230522 11-Week Session classes begin',\n",
       " '20230522 20230522 Session I classes begin',\n",
       " '20230529 20230529 Memorial Day observed (no classes)',\n",
       " '20230628 20230628 Session I classes end',\n",
       " '20230629 20230629 Session II classes begin',\n",
       " '20230704 20230704 Independence Day observed (no classes)',\n",
       " '20230804 20230804 Session II & 11-Week Session classes end']"
      ]
     },
     "execution_count": 5,
     "metadata": {},
     "output_type": "execute_result"
    }
   ],
   "source": [
    "contentlist"
   ]
  },
  {
   "cell_type": "code",
   "execution_count": 11,
   "metadata": {},
   "outputs": [],
   "source": [
    "month = contentlist[0][:6]\n",
    "f = open(mypath + 'cleaned_up/' + month + \".txt\", \"x\")\n",
    "for i in range(len(eventlist)):\n",
    "    if contentlist[i][:6] != month:\n",
    "        f.close()\n",
    "        month = contentlist[i][:6]\n",
    "        f = open(mypath + 'cleaned_up/' + month + \".txt\", \"x\")\n",
    "    f.write(contentlist[i] +'\\n')\n",
    "f.close()\n",
    "    "
   ]
  },
  {
   "cell_type": "code",
   "execution_count": null,
   "metadata": {},
   "outputs": [],
   "source": []
  }
 ],
 "metadata": {
  "kernelspec": {
   "display_name": "Python 3",
   "language": "python",
   "name": "python3"
  },
  "language_info": {
   "codemirror_mode": {
    "name": "ipython",
    "version": 3
   },
   "file_extension": ".py",
   "mimetype": "text/x-python",
   "name": "python",
   "nbconvert_exporter": "python",
   "pygments_lexer": "ipython3",
   "version": "3.8.5"
  }
 },
 "nbformat": 4,
 "nbformat_minor": 4
}
